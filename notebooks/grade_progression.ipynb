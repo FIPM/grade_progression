{
 "cells": [
  {
   "cell_type": "markdown",
   "metadata": {},
   "source": [
    "# Imports"
   ]
  },
  {
   "cell_type": "code",
   "execution_count": 1,
   "metadata": {},
   "outputs": [],
   "source": [
    "import pandas as pd\n",
    "import pyreadstat as spss\n",
    "import os\n",
    "import numpy as np\n",
    "import random \n",
    "\n",
    "from sklearn.decomposition import PCA\n",
    "from sklearn.neighbors import KNeighborsClassifier\n",
    "from sklearn.svm import SVC\n",
    "from sklearn.tree import DecisionTreeClassifier\n",
    "from scipy import stats\n",
    "import plotly.graph_objs as go"
   ]
  },
  {
   "cell_type": "markdown",
   "metadata": {},
   "source": [
    "# Functions and methods"
   ]
  },
  {
   "cell_type": "code",
   "execution_count": 2,
   "metadata": {},
   "outputs": [],
   "source": [
    "# ETL STAGE\n",
    "def train_val_test_split(db,propTrain=.7,propTest=.5):\n",
    "    # after train size, the remainder is splitted by propTest\n",
    "    random.seed(42)    \n",
    "    # Min and Max grade in database\n",
    "    min_LG=np.min(db['LastGrade'].values)\n",
    "    max_LG=np.max(db['LastGrade'].values)\n",
    "    print('Minimum grade in DB '+str(min_LG))\n",
    "    print('Maximum grade in DB '+str(max_LG))\n",
    "\n",
    "    # Selecting random positions for the 3 databases: Train, Test, Validation.    \n",
    "    trainPosition=[]\n",
    "    testPosition=[]\n",
    "    validationPosition=[]\n",
    "    # making sure all databases have all grades\n",
    "    for g in range(min_LG,max_LG+1):\n",
    "        rows=db[db['LastGrade']==g].index.tolist()\n",
    "        trainPosition=trainPosition+random.sample(rows,k=np.ceil(propTrain*len(rows)).astype(int))\n",
    "        rows=list(set(rows).difference(set(trainPosition)))\n",
    "        validationPosition=validationPosition+random.sample(rows,k=np.ceil((1-propTest)*len(rows)).astype(int))\n",
    "        testPosition=testPosition+list(set(rows).difference(set(validationPosition)))\n",
    "\n",
    "    # Generating databases\n",
    "    dbTrain=db.loc[trainPosition,:].copy()    \n",
    "    dbValidation=db.loc[validationPosition,:].copy()\n",
    "    dbTest=db.loc[testPosition,:].copy()\n",
    "    return dbTrain, dbValidation, dbTest"
   ]
  },
  {
   "cell_type": "code",
   "execution_count": 3,
   "metadata": {},
   "outputs": [],
   "source": [
    "class CustomStandarScaler():\n",
    "    def __init__(self):\n",
    "        self.mean=None\n",
    "        self.std=None\n",
    "        \n",
    "    def fit(self,db):\n",
    "        dm=db.groupby(['Cod_Estab']).agg(\n",
    "            measure_L_std=('measure_L',lambda x:x.std()),\n",
    "            measure_M_std=('measure_M',lambda x:x.std())\n",
    "            )\n",
    "        dm.reset_index(inplace=True)\n",
    "        self.std = dm\n",
    "        return self\n",
    "    \n",
    "    def transform(self,db):\n",
    "        db = db.merge(self.std,how='left',left_on='Cod_Estab',right_on='Cod_Estab')\n",
    "        db['measure_M_std']=db['measure_M']/db['measure_M_std']\n",
    "        db['measure_L_std']=db['measure_L']/db['measure_L_std']\n",
    "\n",
    "        db = db[db.measure_M_std > -20]\n",
    "        db = db[db.measure_L_std > -20]\n",
    "        return db\n",
    "        "
   ]
  },
  {
   "cell_type": "code",
   "execution_count": 4,
   "metadata": {},
   "outputs": [],
   "source": [
    "class CustomEnsembleModel():\n",
    "    def __init__(self):\n",
    "        self.listModelsByGrade=None\n",
    "        self.listFeatures=None\n",
    "        self.grades=None\n",
    "        \n",
    "    def transform(self):\n",
    "        pass\n",
    "    \n",
    "    def fit(self,db,grades,listFeatures):\n",
    "    \n",
    "        # To keep track of models, features selected\n",
    "        listModelsByGrade=[[],[],[],[]]\n",
    "        self.listFeatures=listFeatures\n",
    "        self.grades=grades\n",
    "\n",
    "        # Model estimation\n",
    "        for grade in grades:\n",
    "            # SVC\n",
    "            types_svc=[]\n",
    "            models_svc=[]\n",
    "            for i3 in ['rbf','linear']:\n",
    "                config=(i3,[])\n",
    "                type='SVC'\n",
    "                model=self.trainFunc(db,listFeatures,config,type,grade)\n",
    "                types_svc=types_svc+[type]\n",
    "                models_svc=models_svc+model   \n",
    "            # KNC\n",
    "            types_knn=[]\n",
    "            models_knn=[]\n",
    "            for i1 in [1]:\n",
    "                for i2 in ['distance','uniform']:\n",
    "                    for i3 in ['ball_tree', 'kd_tree', 'brute']:\n",
    "                        config=(i1,i2,i3)\n",
    "                        type='KNC'\n",
    "                        model=self.trainFunc(db,listFeatures,config,type,grade)\n",
    "                        types_knn=types_knn+[type]\n",
    "                        models_knn=models_knn+model       \n",
    "            # DTC\n",
    "            types_tree=[]\n",
    "            models_tree=[]        \n",
    "            for i4 in ['best','random']:\n",
    "                config=(i4,[])\n",
    "                type='DTC'\n",
    "                model=self.trainFunc(db,listFeatures,config,type,grade)\n",
    "                types_tree=types_tree+[type]\n",
    "                models_tree=models_tree+model \n",
    "\n",
    "            # One position by grade\n",
    "            listModelsByGrade.append([types_svc,models_svc,types_knn,models_knn,types_tree,models_tree])\n",
    "            self.listModelsByGrade=listModelsByGrade\n",
    "        return self\n",
    "    \n",
    "    def trainFunc(self, db, listFeatures, input, type, Grade):    \n",
    "        X=db[listFeatures].values\n",
    "        db['LastGrade_aux']=1*(db['LastGrade']>=Grade)\n",
    "        y=db['LastGrade_aux'].values\n",
    "        if type=='KNC':    \n",
    "            # KNC\n",
    "            knn_k=input[0]\n",
    "            knn_weights=input[1]    \n",
    "            knn_algorithm=input[2]\n",
    "            y=pd.get_dummies(db[['LastGrade_aux']].astype(str))\n",
    "            y=y[y.columns].values\n",
    "            knn_clf = KNeighborsClassifier(n_neighbors=knn_k, weights=knn_weights,algorithm=knn_algorithm)\n",
    "            knn_clf.fit(X, y)\n",
    "            output=knn_clf\n",
    "        elif type=='SVC':\n",
    "            # SVC\n",
    "            svc_kernel=input[0]\n",
    "            svm_clf = SVC(gamma=\"auto\", kernel=svc_kernel,random_state=42)\n",
    "            svm_clf.fit(X, y) \n",
    "            output=svm_clf\n",
    "        elif type=='DTC':\n",
    "            # DTC\n",
    "            tree_splitter=input[0]\n",
    "            tree_dtc = DecisionTreeClassifier(random_state=42,splitter=tree_splitter)\n",
    "            tree_dtc.fit(X, y) \n",
    "            output=tree_dtc\n",
    "        return [output]\n",
    "    \n",
    "    def prediction(self, dbP, models, types, Grade):\n",
    "        dbP['LastGrade_aux']=1*(dbP['LastGrade']>=Grade)\n",
    "        X=dbP[self.listFeatures].values\n",
    "        for m in range(0,len(models)):\n",
    "            model=models[m]\n",
    "            if types[m]=='KNC':   \n",
    "                if m==0:\n",
    "                    preds=model.predict(X)@np.sort(dbP['LastGrade_aux'].unique())[:,np.newaxis]\n",
    "                else:                                \n",
    "                    preds=np.concatenate((preds,model.predict(X)@np.sort(dbP['LastGrade_aux'].unique())[:,np.newaxis]),axis=1)                \n",
    "            else:\n",
    "                if m==0:\n",
    "                    preds=model.predict(X)[:,np.newaxis]\n",
    "                else:                \n",
    "                    preds=np.concatenate((preds,model.predict(X)[:,np.newaxis]),axis=1)                \n",
    "        return preds\n",
    "    \n",
    "    def voter(self, dbP, preds, Grade):\n",
    "        dbP['LastGrade_aux']=1*(dbP['LastGrade']>=Grade)\n",
    "        m = stats.mode(preds,axis=1)\n",
    "        y_pred=m[0].ravel()*(m[1].ravel()>=np.max(m[1].ravel()))\n",
    "        dbP['y_pred']=y_pred\n",
    "        y=dbP['LastGrade_aux'].values    \n",
    "        Precision=np.sum((y_pred==1)*(y==1))/np.sum(y_pred==1)\n",
    "        Recall=np.sum((y_pred==1)*(y==1))/np.sum(y==1)\n",
    "        F1=2*(Precision*Recall)/(Precision+Recall) \n",
    "        Precision=np.round(Precision,decimals=2)\n",
    "        Recall=np.round(Recall,decimals=2)\n",
    "        F1=np.round(F1,decimals=2)\n",
    "        return [Precision,Recall,F1,y_pred]\n",
    "    \n",
    "    def predict(self, db):\n",
    "    \n",
    "        listPreds=[] # keep track of best prediction by model type\n",
    "        grades = self.grades\n",
    "        listModelsByGrade = self.listModelsByGrade\n",
    "\n",
    "        for grade in grades:\n",
    "\n",
    "            # access trained models \n",
    "            types_svc = listModelsByGrade[grade][0]\n",
    "            models_svc = listModelsByGrade[grade][1]\n",
    "            types_knn = listModelsByGrade[grade][2]\n",
    "            models_knn =  listModelsByGrade[grade][3]\n",
    "            types_tree = listModelsByGrade[grade][4]\n",
    "            models_tree = listModelsByGrade[grade][5]\n",
    "\n",
    "            # SVC\n",
    "            preds=self.prediction(db,models_svc,types_svc,grade)   \n",
    "            metric=self.voter(db,preds,grade) # find the best prediction\n",
    "            listPreds=metric[3][:,np.newaxis]\n",
    "\n",
    "            # KNC\n",
    "            preds=self.prediction(db,models_knn,types_knn,grade)   \n",
    "            metric=self.voter(db,preds,grade) # find the best prediction\n",
    "            listPreds=np.concatenate((listPreds,metric[3][:,np.newaxis]),axis=1)\n",
    "\n",
    "            # TREE\n",
    "            preds=self.prediction(db,models_tree,types_tree,grade)   \n",
    "            metric=self.voter(db,preds,grade) # find the best prediction\n",
    "            listPreds=np.concatenate((listPreds,metric[3][:,np.newaxis]),axis=1)\n",
    "\n",
    "            metric=self.voter(db,listPreds,grade) # find the best of best predictions\n",
    "            \n",
    "            name='PrecisionLastGrade_'+str(grade)\n",
    "            db[name]=metric[0] #saving for ploting\n",
    "\n",
    "            name='RecallLastGrade_'+str(grade)\n",
    "            db[name]=metric[1] #saving for ploting\n",
    "\n",
    "            name='F1LastGrade_'+str(grade)        \n",
    "            db[name]=metric[2] #saving for ploting\n",
    "\n",
    "            name='predLastGrade_'+str(grade)\n",
    "            db[name]=metric[3] #To identify students\n",
    "\n",
    "            print('Grade='+str(grade)+' Precision='+str(np.round(metric[0],decimals=2))+' Recall='+str(np.round(metric[1],decimals=2))+' F1='+str(np.round(metric[2],decimals=2)))\n",
    "        return db\n",
    "    \n",
    "    "
   ]
  },
  {
   "cell_type": "markdown",
   "metadata": {},
   "source": [
    "# Cleaning data"
   ]
  },
  {
   "cell_type": "markdown",
   "metadata": {},
   "source": [
    "#"
   ]
  },
  {
   "cell_type": "code",
   "execution_count": 2,
   "metadata": {},
   "outputs": [],
   "source": [
    "# DATA FOR 2014\n",
    "DataFile='/Users/fipm/OneDrive/Research/Mineduc/BaseDatosPruebas/2014/2014 - 3o primaria/2014 - 3ro Primaria - Versión Final.sav'\n",
    "df, meta = spss.read_sav(DataFile, encoding='LATIN1', apply_value_formats=True)\n"
   ]
  },
  {
   "cell_type": "code",
   "execution_count": 14,
   "metadata": {},
   "outputs": [],
   "source": [
    "db = df.filter(['Cod_Estab','measure_L','measure_M','Cod_Personal'])"
   ]
  },
  {
   "cell_type": "code",
   "execution_count": 16,
   "metadata": {},
   "outputs": [
    {
     "name": "stdout",
     "output_type": "stream",
     "text": [
      "FOTO_ESTUDIANTE_2015_UTF8.csv\n",
      "Grado : CUARTO\n",
      "Nivel : 43.0\n",
      "done 4 grade\n",
      "FOTO_ESTUDIANTE_2016_UTF8.csv\n",
      "Grado : QUINTO\n",
      "Nivel : 43.0\n",
      "done 5 grade\n",
      "FOTO_ESTUDIANTE_2017_UFT8.csv\n",
      "Grado : SEXTO\n",
      "Nivel : 43.0\n",
      "done 6 grade\n",
      "FOTO_ESTUDIANTE_2018_UTF8.csv\n",
      "Grado : PRIMERO BASICO\n",
      "Nivel : 45.0\n",
      "done 7 grade\n",
      "FOTO_ESTUDIANTE_2019_UTF8.csv\n",
      "Grado : SEGUNDO BASICO\n",
      "Nivel : 45.0\n",
      "done 8 grade\n",
      "FOTO_ESTUDIANTE_2020_UTF8.csv\n",
      "Grado : TERCERO BASICO\n",
      "Nivel : 45.0\n",
      "done 9 grade\n"
     ]
    }
   ],
   "source": [
    "# Beginning of student progression and standarized scores\n",
    "# FOURTH GRADE STUDENTS\n",
    "\n",
    "listEstu=db['Cod_Personal'].unique()\n",
    "Path='/Users/fipm/OneDrive/Research/Mineduc/Sire/'\n",
    "\n",
    "listDB=[\n",
    "    'FOTO_ESTUDIANTE_2015_UTF8.csv',\n",
    "    'FOTO_ESTUDIANTE_2016_UTF8.csv',\n",
    "    'FOTO_ESTUDIANTE_2017_UFT8.csv',\n",
    "    'FOTO_ESTUDIANTE_2018_UTF8.csv',\n",
    "    'FOTO_ESTUDIANTE_2019_UTF8.csv',\n",
    "    'FOTO_ESTUDIANTE_2020_UTF8.csv',\n",
    "\n",
    "    ]\n",
    "listGrados=[4,5,6,7,8,9]\n",
    "for i in range(0,len(listDB)):\n",
    "    print(listDB[i])\n",
    "    opGrade=listGrados[i]\n",
    "    # 4. FOTO_ESTUDIANTE\n",
    "    studentDB = pd.read_csv(\n",
    "        Path+listDB[i]\n",
    "        ,sep='\\t',index_col = False, encoding='utf-8'\n",
    "        ,usecols=['COD_ESTABLECIMIENTO','COD_PERSONAL','COD_ESTUDIANTE','NOM_GRADO']\n",
    "        )\n",
    "\n",
    "\n",
    "    # 41. PREPRIMARIA BILINGUE\n",
    "    # 42. PREPRIMARIA PARVULOS\n",
    "    # 43. PRIMARIA DE NIÑOS\n",
    "    # 44. PRIMARIA DE ADULTOS\n",
    "    # 45. BASICO  \n",
    "    # 46. DIVERSIFICADO\n",
    "\n",
    "    selecionarGrado=opGrade\n",
    "    # school clasification\n",
    "    Niveles=[43.,43.,43.,43.,43.,43.,43.,45.,45.,45.]\n",
    "    grados=['','','','TERCERO','CUARTO','QUINTO' ,'SEXTO' ,'PRIMERO BASICO','SEGUNDO BASICO','TERCERO BASICO']\n",
    "    grado=grados[selecionarGrado]\n",
    "    nivel=Niveles[selecionarGrado]\n",
    "\n",
    "    print('Grado : '+grado)\n",
    "    print('Nivel : '+str(nivel))\n",
    "\n",
    "\n",
    "    # finding schools of student digeduca DB in SIRE\n",
    "    eP=studentDB[studentDB['COD_PERSONAL'].isin(listEstu)].copy()\n",
    "    eP['Nivel']=(eP['COD_ESTABLECIMIENTO']/1)%100\n",
    "    condicion=(eP['NOM_GRADO']==grado)\n",
    "    condicion=condicion*(eP['Nivel']==nivel)        \n",
    "    eP=eP[condicion] # selecting fourth grade students \n",
    "    listSireEstu=eP['COD_PERSONAL'].unique()\n",
    "\n",
    "    # creating dataframe to store results.\n",
    "    if i==0:\n",
    "        toDF=dict()\n",
    "        toDF['COD_PERSONAL']=listEstu\n",
    "        PSDF=pd.DataFrame(toDF)\n",
    "        PSDF['LastGrade']=3\n",
    "    inDB=PSDF['COD_PERSONAL'].isin(listSireEstu)\n",
    "    name='G'+str(opGrade)\n",
    "    PSDF[name]=inDB*1\n",
    "    PSDF['LastGrade']=PSDF['LastGrade']+PSDF[name]\n",
    "    print('done '+str(opGrade)+' grade')"
   ]
  },
  {
   "cell_type": "code",
   "execution_count": 21,
   "metadata": {},
   "outputs": [],
   "source": [
    "db = df.filter(['Cod_Estab','measure_L','measure_M','Cod_Personal'])\n",
    "db=db.merge(PSDF,left_on='Cod_Personal',right_on='COD_PERSONAL',how='left')\n",
    "db.drop(columns=['COD_PERSONAL'], inplace=True)\n",
    "db.to_csv('/Users/fipm/OneDrive/GitHubProjects/grade_progression/raw_data/data.csv',\n",
    "          index=False)"
   ]
  },
  {
   "cell_type": "markdown",
   "metadata": {},
   "source": [
    "# starts main program"
   ]
  },
  {
   "cell_type": "code",
   "execution_count": 5,
   "metadata": {},
   "outputs": [],
   "source": [
    "# Loading data\n",
    "file_path = os.path.join('..','raw_data','data.csv')\n",
    "db = pd.read_csv(file_path)"
   ]
  },
  {
   "cell_type": "code",
   "execution_count": 6,
   "metadata": {},
   "outputs": [
    {
     "name": "stdout",
     "output_type": "stream",
     "text": [
      "Minimum grade in DB 3\n",
      "Maximum grade in DB 9\n"
     ]
    }
   ],
   "source": [
    "dbTrain, dbValidation, dbTest = train_val_test_split(db,propTrain=.7,propTest=.5)\n",
    "css = CustomStandarScaler()\n",
    "css.fit(dbTrain);\n",
    "dbTrain = css.transform(dbTrain)\n",
    "dbValidation = css.transform(dbValidation)\n",
    "dbTest = css.transform(dbTest)"
   ]
  },
  {
   "cell_type": "code",
   "execution_count": 7,
   "metadata": {},
   "outputs": [],
   "source": [
    "# Measures for student performance at school\n",
    "listFeaturesQ=[\n",
    "        'measure_M_std',\n",
    "        'measure_L_std',\n",
    " ]\n",
    "\n",
    "# Principal component analysis for student performace\n",
    "pca = PCA(n_components=1)\n",
    "pca.fit(dbTrain[listFeaturesQ].values)\n",
    "dbTrain['studentPerformace']= pca.transform(dbTrain[listFeaturesQ].values)[:,[0]]\n",
    "dbValidation['studentPerformace']= pca.transform(dbValidation[listFeaturesQ].values)[:,[0]]\n",
    "dbTest['studentPerformace']= pca.transform(dbTest[listFeaturesQ].values)[:,[0]]\n"
   ]
  },
  {
   "cell_type": "code",
   "execution_count": 8,
   "metadata": {},
   "outputs": [
    {
     "name": "stdout",
     "output_type": "stream",
     "text": [
      "Variables used: \n",
      "['studentPerformace']\n",
      "Training\n"
     ]
    }
   ],
   "source": [
    "# Ensemble learning, voting classifiers\n",
    "\n",
    "\n",
    "listFeatures=['studentPerformace'] # for training\n",
    "\n",
    "print('Variables used: ')\n",
    "print(listFeatures)\n",
    "\n",
    "\n",
    "grades=[4,5,6,7,8,9]    \n",
    "\n",
    "# TRAINING STAGE\n",
    "print('Training')\n",
    "\n",
    "cem = CustomEnsembleModel()\n",
    "listModelsByGrade=cem.fit(dbTrain, grades, listFeatures) "
   ]
  },
  {
   "cell_type": "code",
   "execution_count": 59,
   "metadata": {},
   "outputs": [
    {
     "name": "stdout",
     "output_type": "stream",
     "text": [
      "Train\n",
      "Grade=4 Precision=1.0 Recall=1.0 F1=1.0\n",
      "Grade=5 Precision=1.0 Recall=1.0 F1=1.0\n",
      "Grade=6 Precision=1.0 Recall=0.98 F1=0.99\n",
      "Grade=7 Precision=1.0 Recall=0.65 F1=0.78\n",
      "Grade=8 Precision=1.0 Recall=0.49 F1=0.66\n",
      "Grade=9 Precision=1.0 Recall=0.28 F1=0.44\n"
     ]
    }
   ],
   "source": [
    "# TRAINING STAGE\n",
    "print('Train')\n",
    "dbTrain=cem.predict(dbTrain)  "
   ]
  },
  {
   "cell_type": "code",
   "execution_count": 9,
   "metadata": {},
   "outputs": [
    {
     "name": "stdout",
     "output_type": "stream",
     "text": [
      "Validation\n",
      "Grade=4 Precision=0.9 Recall=0.88 F1=0.89\n",
      "Grade=5 Precision=0.79 Recall=0.76 F1=0.77\n",
      "Grade=6 Precision=0.74 Recall=0.68 F1=0.71\n",
      "Grade=7 Precision=0.66 Recall=0.38 F1=0.48\n",
      "Grade=8 Precision=0.62 Recall=0.28 F1=0.38\n",
      "Grade=9 Precision=0.55 Recall=0.14 F1=0.22\n",
      "Test\n",
      "Grade=4 Precision=0.89 Recall=0.87 F1=0.88\n",
      "Grade=5 Precision=0.8 Recall=0.75 F1=0.77\n",
      "Grade=6 Precision=0.74 Recall=0.68 F1=0.71\n",
      "Grade=7 Precision=0.66 Recall=0.37 F1=0.48\n",
      "Grade=8 Precision=0.62 Recall=0.27 F1=0.38\n",
      "Grade=9 Precision=0.59 Recall=0.14 F1=0.23\n",
      "Done\n"
     ]
    }
   ],
   "source": [
    "# VALIDATING STAGE\n",
    "print('Validation')\n",
    "dbValidation=cem.predict(dbValidation)  \n",
    "\n",
    "# TESTING STAGE\n",
    "print('Test')\n",
    "dbTest=cem.predict(dbTest)       \n",
    "print('Done')  "
   ]
  },
  {
   "cell_type": "code",
   "execution_count": 10,
   "metadata": {},
   "outputs": [
    {
     "data": {
      "application/vnd.plotly.v1+json": {
       "config": {
        "plotlyServerURL": "https://plot.ly"
       },
       "data": [
        {
         "name": "Attending Grade >=4",
         "type": "bar",
         "x": [
          "Precision",
          "Recall",
          "F1"
         ],
         "y": [
          0.89,
          0.87,
          0.88
         ]
        },
        {
         "name": "Attending Grade >=5",
         "type": "bar",
         "x": [
          "Precision",
          "Recall",
          "F1"
         ],
         "y": [
          0.8,
          0.75,
          0.77
         ]
        },
        {
         "name": "Attending Grade >=6",
         "type": "bar",
         "x": [
          "Precision",
          "Recall",
          "F1"
         ],
         "y": [
          0.74,
          0.68,
          0.71
         ]
        },
        {
         "name": "Attending Grade >=7",
         "type": "bar",
         "x": [
          "Precision",
          "Recall",
          "F1"
         ],
         "y": [
          0.66,
          0.37,
          0.48
         ]
        },
        {
         "name": "Attending Grade >=8",
         "type": "bar",
         "x": [
          "Precision",
          "Recall",
          "F1"
         ],
         "y": [
          0.62,
          0.27,
          0.38
         ]
        },
        {
         "name": "Attending Grade >=9",
         "type": "bar",
         "x": [
          "Precision",
          "Recall",
          "F1"
         ],
         "y": [
          0.59,
          0.14,
          0.23
         ]
        }
       ],
       "layout": {
        "template": {
         "data": {
          "bar": [
           {
            "error_x": {
             "color": "#2a3f5f"
            },
            "error_y": {
             "color": "#2a3f5f"
            },
            "marker": {
             "line": {
              "color": "#E5ECF6",
              "width": 0.5
             },
             "pattern": {
              "fillmode": "overlay",
              "size": 10,
              "solidity": 0.2
             }
            },
            "type": "bar"
           }
          ],
          "barpolar": [
           {
            "marker": {
             "line": {
              "color": "#E5ECF6",
              "width": 0.5
             },
             "pattern": {
              "fillmode": "overlay",
              "size": 10,
              "solidity": 0.2
             }
            },
            "type": "barpolar"
           }
          ],
          "carpet": [
           {
            "aaxis": {
             "endlinecolor": "#2a3f5f",
             "gridcolor": "white",
             "linecolor": "white",
             "minorgridcolor": "white",
             "startlinecolor": "#2a3f5f"
            },
            "baxis": {
             "endlinecolor": "#2a3f5f",
             "gridcolor": "white",
             "linecolor": "white",
             "minorgridcolor": "white",
             "startlinecolor": "#2a3f5f"
            },
            "type": "carpet"
           }
          ],
          "choropleth": [
           {
            "colorbar": {
             "outlinewidth": 0,
             "ticks": ""
            },
            "type": "choropleth"
           }
          ],
          "contour": [
           {
            "colorbar": {
             "outlinewidth": 0,
             "ticks": ""
            },
            "colorscale": [
             [
              0,
              "#0d0887"
             ],
             [
              0.1111111111111111,
              "#46039f"
             ],
             [
              0.2222222222222222,
              "#7201a8"
             ],
             [
              0.3333333333333333,
              "#9c179e"
             ],
             [
              0.4444444444444444,
              "#bd3786"
             ],
             [
              0.5555555555555556,
              "#d8576b"
             ],
             [
              0.6666666666666666,
              "#ed7953"
             ],
             [
              0.7777777777777778,
              "#fb9f3a"
             ],
             [
              0.8888888888888888,
              "#fdca26"
             ],
             [
              1,
              "#f0f921"
             ]
            ],
            "type": "contour"
           }
          ],
          "contourcarpet": [
           {
            "colorbar": {
             "outlinewidth": 0,
             "ticks": ""
            },
            "type": "contourcarpet"
           }
          ],
          "heatmap": [
           {
            "colorbar": {
             "outlinewidth": 0,
             "ticks": ""
            },
            "colorscale": [
             [
              0,
              "#0d0887"
             ],
             [
              0.1111111111111111,
              "#46039f"
             ],
             [
              0.2222222222222222,
              "#7201a8"
             ],
             [
              0.3333333333333333,
              "#9c179e"
             ],
             [
              0.4444444444444444,
              "#bd3786"
             ],
             [
              0.5555555555555556,
              "#d8576b"
             ],
             [
              0.6666666666666666,
              "#ed7953"
             ],
             [
              0.7777777777777778,
              "#fb9f3a"
             ],
             [
              0.8888888888888888,
              "#fdca26"
             ],
             [
              1,
              "#f0f921"
             ]
            ],
            "type": "heatmap"
           }
          ],
          "heatmapgl": [
           {
            "colorbar": {
             "outlinewidth": 0,
             "ticks": ""
            },
            "colorscale": [
             [
              0,
              "#0d0887"
             ],
             [
              0.1111111111111111,
              "#46039f"
             ],
             [
              0.2222222222222222,
              "#7201a8"
             ],
             [
              0.3333333333333333,
              "#9c179e"
             ],
             [
              0.4444444444444444,
              "#bd3786"
             ],
             [
              0.5555555555555556,
              "#d8576b"
             ],
             [
              0.6666666666666666,
              "#ed7953"
             ],
             [
              0.7777777777777778,
              "#fb9f3a"
             ],
             [
              0.8888888888888888,
              "#fdca26"
             ],
             [
              1,
              "#f0f921"
             ]
            ],
            "type": "heatmapgl"
           }
          ],
          "histogram": [
           {
            "marker": {
             "pattern": {
              "fillmode": "overlay",
              "size": 10,
              "solidity": 0.2
             }
            },
            "type": "histogram"
           }
          ],
          "histogram2d": [
           {
            "colorbar": {
             "outlinewidth": 0,
             "ticks": ""
            },
            "colorscale": [
             [
              0,
              "#0d0887"
             ],
             [
              0.1111111111111111,
              "#46039f"
             ],
             [
              0.2222222222222222,
              "#7201a8"
             ],
             [
              0.3333333333333333,
              "#9c179e"
             ],
             [
              0.4444444444444444,
              "#bd3786"
             ],
             [
              0.5555555555555556,
              "#d8576b"
             ],
             [
              0.6666666666666666,
              "#ed7953"
             ],
             [
              0.7777777777777778,
              "#fb9f3a"
             ],
             [
              0.8888888888888888,
              "#fdca26"
             ],
             [
              1,
              "#f0f921"
             ]
            ],
            "type": "histogram2d"
           }
          ],
          "histogram2dcontour": [
           {
            "colorbar": {
             "outlinewidth": 0,
             "ticks": ""
            },
            "colorscale": [
             [
              0,
              "#0d0887"
             ],
             [
              0.1111111111111111,
              "#46039f"
             ],
             [
              0.2222222222222222,
              "#7201a8"
             ],
             [
              0.3333333333333333,
              "#9c179e"
             ],
             [
              0.4444444444444444,
              "#bd3786"
             ],
             [
              0.5555555555555556,
              "#d8576b"
             ],
             [
              0.6666666666666666,
              "#ed7953"
             ],
             [
              0.7777777777777778,
              "#fb9f3a"
             ],
             [
              0.8888888888888888,
              "#fdca26"
             ],
             [
              1,
              "#f0f921"
             ]
            ],
            "type": "histogram2dcontour"
           }
          ],
          "mesh3d": [
           {
            "colorbar": {
             "outlinewidth": 0,
             "ticks": ""
            },
            "type": "mesh3d"
           }
          ],
          "parcoords": [
           {
            "line": {
             "colorbar": {
              "outlinewidth": 0,
              "ticks": ""
             }
            },
            "type": "parcoords"
           }
          ],
          "pie": [
           {
            "automargin": true,
            "type": "pie"
           }
          ],
          "scatter": [
           {
            "fillpattern": {
             "fillmode": "overlay",
             "size": 10,
             "solidity": 0.2
            },
            "type": "scatter"
           }
          ],
          "scatter3d": [
           {
            "line": {
             "colorbar": {
              "outlinewidth": 0,
              "ticks": ""
             }
            },
            "marker": {
             "colorbar": {
              "outlinewidth": 0,
              "ticks": ""
             }
            },
            "type": "scatter3d"
           }
          ],
          "scattercarpet": [
           {
            "marker": {
             "colorbar": {
              "outlinewidth": 0,
              "ticks": ""
             }
            },
            "type": "scattercarpet"
           }
          ],
          "scattergeo": [
           {
            "marker": {
             "colorbar": {
              "outlinewidth": 0,
              "ticks": ""
             }
            },
            "type": "scattergeo"
           }
          ],
          "scattergl": [
           {
            "marker": {
             "colorbar": {
              "outlinewidth": 0,
              "ticks": ""
             }
            },
            "type": "scattergl"
           }
          ],
          "scattermapbox": [
           {
            "marker": {
             "colorbar": {
              "outlinewidth": 0,
              "ticks": ""
             }
            },
            "type": "scattermapbox"
           }
          ],
          "scatterpolar": [
           {
            "marker": {
             "colorbar": {
              "outlinewidth": 0,
              "ticks": ""
             }
            },
            "type": "scatterpolar"
           }
          ],
          "scatterpolargl": [
           {
            "marker": {
             "colorbar": {
              "outlinewidth": 0,
              "ticks": ""
             }
            },
            "type": "scatterpolargl"
           }
          ],
          "scatterternary": [
           {
            "marker": {
             "colorbar": {
              "outlinewidth": 0,
              "ticks": ""
             }
            },
            "type": "scatterternary"
           }
          ],
          "surface": [
           {
            "colorbar": {
             "outlinewidth": 0,
             "ticks": ""
            },
            "colorscale": [
             [
              0,
              "#0d0887"
             ],
             [
              0.1111111111111111,
              "#46039f"
             ],
             [
              0.2222222222222222,
              "#7201a8"
             ],
             [
              0.3333333333333333,
              "#9c179e"
             ],
             [
              0.4444444444444444,
              "#bd3786"
             ],
             [
              0.5555555555555556,
              "#d8576b"
             ],
             [
              0.6666666666666666,
              "#ed7953"
             ],
             [
              0.7777777777777778,
              "#fb9f3a"
             ],
             [
              0.8888888888888888,
              "#fdca26"
             ],
             [
              1,
              "#f0f921"
             ]
            ],
            "type": "surface"
           }
          ],
          "table": [
           {
            "cells": {
             "fill": {
              "color": "#EBF0F8"
             },
             "line": {
              "color": "white"
             }
            },
            "header": {
             "fill": {
              "color": "#C8D4E3"
             },
             "line": {
              "color": "white"
             }
            },
            "type": "table"
           }
          ]
         },
         "layout": {
          "annotationdefaults": {
           "arrowcolor": "#2a3f5f",
           "arrowhead": 0,
           "arrowwidth": 1
          },
          "autotypenumbers": "strict",
          "coloraxis": {
           "colorbar": {
            "outlinewidth": 0,
            "ticks": ""
           }
          },
          "colorscale": {
           "diverging": [
            [
             0,
             "#8e0152"
            ],
            [
             0.1,
             "#c51b7d"
            ],
            [
             0.2,
             "#de77ae"
            ],
            [
             0.3,
             "#f1b6da"
            ],
            [
             0.4,
             "#fde0ef"
            ],
            [
             0.5,
             "#f7f7f7"
            ],
            [
             0.6,
             "#e6f5d0"
            ],
            [
             0.7,
             "#b8e186"
            ],
            [
             0.8,
             "#7fbc41"
            ],
            [
             0.9,
             "#4d9221"
            ],
            [
             1,
             "#276419"
            ]
           ],
           "sequential": [
            [
             0,
             "#0d0887"
            ],
            [
             0.1111111111111111,
             "#46039f"
            ],
            [
             0.2222222222222222,
             "#7201a8"
            ],
            [
             0.3333333333333333,
             "#9c179e"
            ],
            [
             0.4444444444444444,
             "#bd3786"
            ],
            [
             0.5555555555555556,
             "#d8576b"
            ],
            [
             0.6666666666666666,
             "#ed7953"
            ],
            [
             0.7777777777777778,
             "#fb9f3a"
            ],
            [
             0.8888888888888888,
             "#fdca26"
            ],
            [
             1,
             "#f0f921"
            ]
           ],
           "sequentialminus": [
            [
             0,
             "#0d0887"
            ],
            [
             0.1111111111111111,
             "#46039f"
            ],
            [
             0.2222222222222222,
             "#7201a8"
            ],
            [
             0.3333333333333333,
             "#9c179e"
            ],
            [
             0.4444444444444444,
             "#bd3786"
            ],
            [
             0.5555555555555556,
             "#d8576b"
            ],
            [
             0.6666666666666666,
             "#ed7953"
            ],
            [
             0.7777777777777778,
             "#fb9f3a"
            ],
            [
             0.8888888888888888,
             "#fdca26"
            ],
            [
             1,
             "#f0f921"
            ]
           ]
          },
          "colorway": [
           "#636efa",
           "#EF553B",
           "#00cc96",
           "#ab63fa",
           "#FFA15A",
           "#19d3f3",
           "#FF6692",
           "#B6E880",
           "#FF97FF",
           "#FECB52"
          ],
          "font": {
           "color": "#2a3f5f"
          },
          "geo": {
           "bgcolor": "white",
           "lakecolor": "white",
           "landcolor": "#E5ECF6",
           "showlakes": true,
           "showland": true,
           "subunitcolor": "white"
          },
          "hoverlabel": {
           "align": "left"
          },
          "hovermode": "closest",
          "mapbox": {
           "style": "light"
          },
          "paper_bgcolor": "white",
          "plot_bgcolor": "#E5ECF6",
          "polar": {
           "angularaxis": {
            "gridcolor": "white",
            "linecolor": "white",
            "ticks": ""
           },
           "bgcolor": "#E5ECF6",
           "radialaxis": {
            "gridcolor": "white",
            "linecolor": "white",
            "ticks": ""
           }
          },
          "scene": {
           "xaxis": {
            "backgroundcolor": "#E5ECF6",
            "gridcolor": "white",
            "gridwidth": 2,
            "linecolor": "white",
            "showbackground": true,
            "ticks": "",
            "zerolinecolor": "white"
           },
           "yaxis": {
            "backgroundcolor": "#E5ECF6",
            "gridcolor": "white",
            "gridwidth": 2,
            "linecolor": "white",
            "showbackground": true,
            "ticks": "",
            "zerolinecolor": "white"
           },
           "zaxis": {
            "backgroundcolor": "#E5ECF6",
            "gridcolor": "white",
            "gridwidth": 2,
            "linecolor": "white",
            "showbackground": true,
            "ticks": "",
            "zerolinecolor": "white"
           }
          },
          "shapedefaults": {
           "line": {
            "color": "#2a3f5f"
           }
          },
          "ternary": {
           "aaxis": {
            "gridcolor": "white",
            "linecolor": "white",
            "ticks": ""
           },
           "baxis": {
            "gridcolor": "white",
            "linecolor": "white",
            "ticks": ""
           },
           "bgcolor": "#E5ECF6",
           "caxis": {
            "gridcolor": "white",
            "linecolor": "white",
            "ticks": ""
           }
          },
          "title": {
           "x": 0.05
          },
          "xaxis": {
           "automargin": true,
           "gridcolor": "white",
           "linecolor": "white",
           "ticks": "",
           "title": {
            "standoff": 15
           },
           "zerolinecolor": "white",
           "zerolinewidth": 2
          },
          "yaxis": {
           "automargin": true,
           "gridcolor": "white",
           "linecolor": "white",
           "ticks": "",
           "title": {
            "standoff": 15
           },
           "zerolinecolor": "white",
           "zerolinewidth": 2
          }
         }
        },
        "title": {
         "text": "Model Performace for Third Grade Students Progression in Guatemala"
        },
        "xaxis": {
         "title": {
          "text": "Metrics"
         }
        },
        "yaxis": {
         "title": {
          "text": "Percentage"
         }
        }
       }
      }
     },
     "metadata": {},
     "output_type": "display_data"
    }
   ],
   "source": [
    "# Preparing data for plots\n",
    "\n",
    "dbTest2plot=dbTest.copy()\n",
    "\n",
    "listNames=[]\n",
    "for grade in grades:\n",
    "    listNames.append('PrecisionLastGrade_'+str(grade))\n",
    "    listNames.append('RecallLastGrade_'+str(grade))\n",
    "    listNames.append('F1LastGrade_'+str(grade))\n",
    "dbTest2plot=dbTest2plot[listNames]\n",
    "dbTest2plot=dbTest2plot.melt(var_name='NameIndex2',value_name='Index')\n",
    "dbTest2plot=dbTest2plot.drop_duplicates(subset=['NameIndex2'],keep='first')\n",
    "dbTest2plot.reset_index(drop=True, inplace=True)\n",
    "dbTest2plot['LastGrade']=dbTest2plot['NameIndex2'].str[-1]\n",
    "dbTest2plot['Index Name']=dbTest2plot['NameIndex2'].str.split('LastGrade_').str[0]\n",
    "dbTest2plot=dbTest2plot[['LastGrade','Index Name','Index']].copy()\n",
    "\n",
    "# Plot of metric performance\n",
    "data=[\n",
    "    go.Bar(x=dbTest2plot[dbTest2plot['LastGrade']==g][\"Index Name\"],y=dbTest2plot[dbTest2plot['LastGrade']==g][\"Index\"],name='Attending Grade >='+str(g))\n",
    "    for g in dbTest2plot['LastGrade'].unique()\n",
    "]\n",
    "layout = go.Layout(title_text='Model Performace for Third Grade Students Progression in Guatemala',\n",
    "                xaxis_title='Metrics',\n",
    "                yaxis_title='Percentage'\n",
    "                )\n",
    "\n",
    "fig = go.Figure(data=data, layout=layout)\n",
    "fig.show()"
   ]
  }
 ],
 "metadata": {
  "kernelspec": {
   "display_name": "Python 3.8.12 64-bit ('grade_progression')",
   "language": "python",
   "name": "python3"
  },
  "language_info": {
   "codemirror_mode": {
    "name": "ipython",
    "version": 3
   },
   "file_extension": ".py",
   "mimetype": "text/x-python",
   "name": "python",
   "nbconvert_exporter": "python",
   "pygments_lexer": "ipython3",
   "version": "3.8.12"
  },
  "orig_nbformat": 4,
  "vscode": {
   "interpreter": {
    "hash": "6f42b1208a96418bf0e44553776aef0c1a688b8379911a158c302b254932b934"
   }
  }
 },
 "nbformat": 4,
 "nbformat_minor": 2
}
