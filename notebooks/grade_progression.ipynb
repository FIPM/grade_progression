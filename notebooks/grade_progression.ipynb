{
 "cells": [
  {
   "cell_type": "markdown",
   "metadata": {},
   "source": [
    "# Imports"
   ]
  },
  {
   "cell_type": "code",
   "execution_count": 23,
   "metadata": {},
   "outputs": [],
   "source": [
    "import pandas as pd\n",
    "import pyreadstat as spss\n",
    "import os\n",
    "import numpy as np\n",
    "import random "
   ]
  },
  {
   "cell_type": "markdown",
   "metadata": {},
   "source": [
    "# Functions and methods"
   ]
  },
  {
   "cell_type": "code",
   "execution_count": null,
   "metadata": {},
   "outputs": [],
   "source": [
    "# ETL STAGE\n",
    "def train_val_test_split(db,propTrain=.7,propTest=.5):\n",
    "    # after train size, the remainder is splitted by propTest\n",
    "    random.seed(42)    \n",
    "    # Min and Max grade in database\n",
    "    min_LG=np.min(db['LastGrade'].values)\n",
    "    max_LG=np.max(db['LastGrade'].values)\n",
    "    print('Minimum grade in DB '+str(min_LG))\n",
    "    print('Maximum grade in DB '+str(max_LG))\n",
    "\n",
    "    # Selecting random positions for the 3 databases: Train, Test, Validation.    \n",
    "    trainPosition=[]\n",
    "    testPosition=[]\n",
    "    validationPosition=[]\n",
    "    # making sure all databases have all grades\n",
    "    for g in range(min_LG,max_LG+1):\n",
    "        rows=db[db['LastGrade']==g].index.tolist()\n",
    "        trainPosition=trainPosition+random.sample(rows,k=np.ceil(propTrain*len(rows)).astype(int))\n",
    "        rows=list(set(rows).difference(set(trainPosition)))\n",
    "        testPosition=testPosition+random.sample(rows,k=np.ceil(propTest*len(rows)).astype(int))\n",
    "        validationPosition=validationPosition+list(set(rows).difference(set(testPosition)))\n",
    "\n",
    "    # Generating databases\n",
    "    dbTrain=db.loc[trainPosition,:].copy()    \n",
    "    dbValidation=db.loc[validationPosition,:].copy()\n",
    "    dbTest=db.loc[testPosition,:].copy()\n",
    "    return dbTrain, dbValidation, dbTest"
   ]
  },
  {
   "cell_type": "markdown",
   "metadata": {},
   "source": [
    "# Cleaning data"
   ]
  },
  {
   "cell_type": "markdown",
   "metadata": {},
   "source": [
    "#"
   ]
  },
  {
   "cell_type": "code",
   "execution_count": 2,
   "metadata": {},
   "outputs": [],
   "source": [
    "# DATA FOR 2014\n",
    "DataFile='/Users/fipm/OneDrive/Research/Mineduc/BaseDatosPruebas/2014/2014 - 3o primaria/2014 - 3ro Primaria - Versión Final.sav'\n",
    "df, meta = spss.read_sav(DataFile, encoding='LATIN1', apply_value_formats=True)\n"
   ]
  },
  {
   "cell_type": "code",
   "execution_count": 14,
   "metadata": {},
   "outputs": [],
   "source": [
    "db = df.filter(['Cod_Estab','measure_L','measure_M','Cod_Personal'])"
   ]
  },
  {
   "cell_type": "code",
   "execution_count": 16,
   "metadata": {},
   "outputs": [
    {
     "name": "stdout",
     "output_type": "stream",
     "text": [
      "FOTO_ESTUDIANTE_2015_UTF8.csv\n",
      "Grado : CUARTO\n",
      "Nivel : 43.0\n",
      "done 4 grade\n",
      "FOTO_ESTUDIANTE_2016_UTF8.csv\n",
      "Grado : QUINTO\n",
      "Nivel : 43.0\n",
      "done 5 grade\n",
      "FOTO_ESTUDIANTE_2017_UFT8.csv\n",
      "Grado : SEXTO\n",
      "Nivel : 43.0\n",
      "done 6 grade\n",
      "FOTO_ESTUDIANTE_2018_UTF8.csv\n",
      "Grado : PRIMERO BASICO\n",
      "Nivel : 45.0\n",
      "done 7 grade\n",
      "FOTO_ESTUDIANTE_2019_UTF8.csv\n",
      "Grado : SEGUNDO BASICO\n",
      "Nivel : 45.0\n",
      "done 8 grade\n",
      "FOTO_ESTUDIANTE_2020_UTF8.csv\n",
      "Grado : TERCERO BASICO\n",
      "Nivel : 45.0\n",
      "done 9 grade\n"
     ]
    }
   ],
   "source": [
    "# Beginning of student progression and standarized scores\n",
    "# FOURTH GRADE STUDENTS\n",
    "\n",
    "listEstu=db['Cod_Personal'].unique()\n",
    "Path='/Users/fipm/OneDrive/Research/Mineduc/Sire/'\n",
    "\n",
    "listDB=[\n",
    "    'FOTO_ESTUDIANTE_2015_UTF8.csv',\n",
    "    'FOTO_ESTUDIANTE_2016_UTF8.csv',\n",
    "    'FOTO_ESTUDIANTE_2017_UFT8.csv',\n",
    "    'FOTO_ESTUDIANTE_2018_UTF8.csv',\n",
    "    'FOTO_ESTUDIANTE_2019_UTF8.csv',\n",
    "    'FOTO_ESTUDIANTE_2020_UTF8.csv',\n",
    "\n",
    "    ]\n",
    "listGrados=[4,5,6,7,8,9]\n",
    "for i in range(0,len(listDB)):\n",
    "    print(listDB[i])\n",
    "    opGrade=listGrados[i]\n",
    "    # 4. FOTO_ESTUDIANTE\n",
    "    studentDB = pd.read_csv(\n",
    "        Path+listDB[i]\n",
    "        ,sep='\\t',index_col = False, encoding='utf-8'\n",
    "        ,usecols=['COD_ESTABLECIMIENTO','COD_PERSONAL','COD_ESTUDIANTE','NOM_GRADO']\n",
    "        )\n",
    "\n",
    "\n",
    "    # 41. PREPRIMARIA BILINGUE\n",
    "    # 42. PREPRIMARIA PARVULOS\n",
    "    # 43. PRIMARIA DE NIÑOS\n",
    "    # 44. PRIMARIA DE ADULTOS\n",
    "    # 45. BASICO  \n",
    "    # 46. DIVERSIFICADO\n",
    "\n",
    "    selecionarGrado=opGrade\n",
    "    # school clasification\n",
    "    Niveles=[43.,43.,43.,43.,43.,43.,43.,45.,45.,45.]\n",
    "    grados=['','','','TERCERO','CUARTO','QUINTO' ,'SEXTO' ,'PRIMERO BASICO','SEGUNDO BASICO','TERCERO BASICO']\n",
    "    grado=grados[selecionarGrado]\n",
    "    nivel=Niveles[selecionarGrado]\n",
    "\n",
    "    print('Grado : '+grado)\n",
    "    print('Nivel : '+str(nivel))\n",
    "\n",
    "\n",
    "    # finding schools of student digeduca DB in SIRE\n",
    "    eP=studentDB[studentDB['COD_PERSONAL'].isin(listEstu)].copy()\n",
    "    eP['Nivel']=(eP['COD_ESTABLECIMIENTO']/1)%100\n",
    "    condicion=(eP['NOM_GRADO']==grado)\n",
    "    condicion=condicion*(eP['Nivel']==nivel)        \n",
    "    eP=eP[condicion] # selecting fourth grade students \n",
    "    listSireEstu=eP['COD_PERSONAL'].unique()\n",
    "\n",
    "    # creating dataframe to store results.\n",
    "    if i==0:\n",
    "        toDF=dict()\n",
    "        toDF['COD_PERSONAL']=listEstu\n",
    "        PSDF=pd.DataFrame(toDF)\n",
    "        PSDF['LastGrade']=3\n",
    "    inDB=PSDF['COD_PERSONAL'].isin(listSireEstu)\n",
    "    name='G'+str(opGrade)\n",
    "    PSDF[name]=inDB*1\n",
    "    PSDF['LastGrade']=PSDF['LastGrade']+PSDF[name]\n",
    "    print('done '+str(opGrade)+' grade')"
   ]
  },
  {
   "cell_type": "code",
   "execution_count": 21,
   "metadata": {},
   "outputs": [],
   "source": [
    "db = df.filter(['Cod_Estab','measure_L','measure_M','Cod_Personal'])\n",
    "db=db.merge(PSDF,left_on='Cod_Personal',right_on='COD_PERSONAL',how='left')\n",
    "db.drop(columns=['COD_PERSONAL'], inplace=True)\n",
    "db.to_csv('/Users/fipm/OneDrive/GitHubProjects/grade_progression/raw_data/data.csv',\n",
    "          index=False)"
   ]
  },
  {
   "cell_type": "markdown",
   "metadata": {},
   "source": [
    "# starts main program"
   ]
  },
  {
   "cell_type": "code",
   "execution_count": 22,
   "metadata": {},
   "outputs": [],
   "source": [
    "# Loading data\n",
    "file_path = os.path.join('..','raw_data','data.csv')\n",
    "db = pd.read_csv(file_path)"
   ]
  },
  {
   "cell_type": "code",
   "execution_count": null,
   "metadata": {},
   "outputs": [],
   "source": [
    "dbTrain, dbValidation, dbTest = train_val_test_split(db,propTrain=.7,propTest=.5)"
   ]
  }
 ],
 "metadata": {
  "kernelspec": {
   "display_name": "Python 3.8.12 64-bit ('grade_progression')",
   "language": "python",
   "name": "python3"
  },
  "language_info": {
   "codemirror_mode": {
    "name": "ipython",
    "version": 3
   },
   "file_extension": ".py",
   "mimetype": "text/x-python",
   "name": "python",
   "nbconvert_exporter": "python",
   "pygments_lexer": "ipython3",
   "version": "3.8.12"
  },
  "orig_nbformat": 4,
  "vscode": {
   "interpreter": {
    "hash": "6f42b1208a96418bf0e44553776aef0c1a688b8379911a158c302b254932b934"
   }
  }
 },
 "nbformat": 4,
 "nbformat_minor": 2
}
