{
 "cells": [
  {
   "cell_type": "markdown",
   "metadata": {},
   "source": [
    "# Imports"
   ]
  },
  {
   "cell_type": "code",
   "execution_count": 9,
   "metadata": {},
   "outputs": [],
   "source": [
    "import pandas as pd\n",
    "import pyreadstat as spss\n",
    "import os"
   ]
  },
  {
   "cell_type": "code",
   "execution_count": 2,
   "metadata": {},
   "outputs": [],
   "source": [
    "# DATA FOR 2014\n",
    "DataFile='/Users/fipm/OneDrive/Research/Mineduc/BaseDatosPruebas/2014/2014 - 3o primaria/2014 - 3ro Primaria - Versión Final.sav'\n",
    "df, meta = spss.read_sav(DataFile, encoding='LATIN1', apply_value_formats=True)\n"
   ]
  },
  {
   "cell_type": "code",
   "execution_count": 12,
   "metadata": {},
   "outputs": [],
   "source": [
    "db = df.filter(['Cod_Estab','measure_L','measure_M'])\n",
    "db.to_csv('/Users/fipm/OneDrive/GitHubProjects/grade_progression/raw_data/data.csv',\n",
    "          index=False)"
   ]
  },
  {
   "cell_type": "markdown",
   "metadata": {},
   "source": [
    "# starts main program"
   ]
  },
  {
   "cell_type": "code",
   "execution_count": 13,
   "metadata": {},
   "outputs": [
    {
     "name": "stdout",
     "output_type": "stream",
     "text": [
      "<class 'pandas.core.frame.DataFrame'>\n",
      "RangeIndex: 19856 entries, 0 to 19855\n",
      "Data columns (total 3 columns):\n",
      " #   Column     Non-Null Count  Dtype  \n",
      "---  ------     --------------  -----  \n",
      " 0   Cod_Estab  19856 non-null  object \n",
      " 1   measure_L  19837 non-null  float64\n",
      " 2   measure_M  19830 non-null  float64\n",
      "dtypes: float64(2), object(1)\n",
      "memory usage: 465.5+ KB\n"
     ]
    }
   ],
   "source": [
    "# Loading data\n",
    "file_path = os.path.join('..','raw_data','data.csv')\n",
    "db = pd.read_csv(file_path)"
   ]
  },
  {
   "cell_type": "code",
   "execution_count": null,
   "metadata": {},
   "outputs": [],
   "source": []
  }
 ],
 "metadata": {
  "kernelspec": {
   "display_name": "Python 3.8.12 64-bit ('grade_progression')",
   "language": "python",
   "name": "python3"
  },
  "language_info": {
   "codemirror_mode": {
    "name": "ipython",
    "version": 3
   },
   "file_extension": ".py",
   "mimetype": "text/x-python",
   "name": "python",
   "nbconvert_exporter": "python",
   "pygments_lexer": "ipython3",
   "version": "3.8.12"
  },
  "orig_nbformat": 4,
  "vscode": {
   "interpreter": {
    "hash": "6f42b1208a96418bf0e44553776aef0c1a688b8379911a158c302b254932b934"
   }
  }
 },
 "nbformat": 4,
 "nbformat_minor": 2
}
